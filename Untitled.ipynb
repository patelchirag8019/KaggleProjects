{
 "cells": [
  {
   "cell_type": "code",
   "execution_count": 17,
   "metadata": {},
   "outputs": [],
   "source": [
    "from nsepy import get_history"
   ]
  },
  {
   "cell_type": "code",
   "execution_count": 18,
   "metadata": {},
   "outputs": [],
   "source": [
    "from datetime import date"
   ]
  },
  {
   "cell_type": "code",
   "execution_count": 28,
   "metadata": {
    "collapsed": true
   },
   "outputs": [],
   "source": [
    "import numpy as np\n",
    "import pandas as pd"
   ]
  },
  {
   "cell_type": "code",
   "execution_count": 19,
   "metadata": {},
   "outputs": [],
   "source": [
    "data = get_history(symbol = \"SBIN\",start = date(2015,1,1),end = date(2018,1,31))"
   ]
  },
  {
   "cell_type": "code",
   "execution_count": 29,
   "metadata": {},
   "outputs": [
    {
     "data": {
      "text/html": [
       "<div>\n",
       "<style>\n",
       "    .dataframe thead tr:only-child th {\n",
       "        text-align: right;\n",
       "    }\n",
       "\n",
       "    .dataframe thead th {\n",
       "        text-align: left;\n",
       "    }\n",
       "\n",
       "    .dataframe tbody tr th {\n",
       "        vertical-align: top;\n",
       "    }\n",
       "</style>\n",
       "<table border=\"1\" class=\"dataframe\">\n",
       "  <thead>\n",
       "    <tr style=\"text-align: right;\">\n",
       "      <th></th>\n",
       "      <th>Symbol</th>\n",
       "      <th>Series</th>\n",
       "      <th>Prev Close</th>\n",
       "      <th>Open</th>\n",
       "      <th>High</th>\n",
       "      <th>Low</th>\n",
       "      <th>Last</th>\n",
       "      <th>Close</th>\n",
       "      <th>VWAP</th>\n",
       "      <th>Volume</th>\n",
       "      <th>Turnover</th>\n",
       "      <th>Trades</th>\n",
       "      <th>Deliverable Volume</th>\n",
       "      <th>%Deliverble</th>\n",
       "    </tr>\n",
       "    <tr>\n",
       "      <th>Date</th>\n",
       "      <th></th>\n",
       "      <th></th>\n",
       "      <th></th>\n",
       "      <th></th>\n",
       "      <th></th>\n",
       "      <th></th>\n",
       "      <th></th>\n",
       "      <th></th>\n",
       "      <th></th>\n",
       "      <th></th>\n",
       "      <th></th>\n",
       "      <th></th>\n",
       "      <th></th>\n",
       "      <th></th>\n",
       "    </tr>\n",
       "  </thead>\n",
       "  <tbody>\n",
       "    <tr>\n",
       "      <th>2015-01-01</th>\n",
       "      <td>SBIN</td>\n",
       "      <td>EQ</td>\n",
       "      <td>311.85</td>\n",
       "      <td>312.45</td>\n",
       "      <td>315.00</td>\n",
       "      <td>310.70</td>\n",
       "      <td>314.0</td>\n",
       "      <td>314.00</td>\n",
       "      <td>313.67</td>\n",
       "      <td>6138488</td>\n",
       "      <td>1.925489e+14</td>\n",
       "      <td>58688</td>\n",
       "      <td>1877677</td>\n",
       "      <td>0.3059</td>\n",
       "    </tr>\n",
       "    <tr>\n",
       "      <th>2015-01-02</th>\n",
       "      <td>SBIN</td>\n",
       "      <td>EQ</td>\n",
       "      <td>314.00</td>\n",
       "      <td>314.35</td>\n",
       "      <td>318.30</td>\n",
       "      <td>314.35</td>\n",
       "      <td>315.6</td>\n",
       "      <td>315.25</td>\n",
       "      <td>316.80</td>\n",
       "      <td>9935094</td>\n",
       "      <td>3.147389e+14</td>\n",
       "      <td>79553</td>\n",
       "      <td>4221685</td>\n",
       "      <td>0.4249</td>\n",
       "    </tr>\n",
       "    <tr>\n",
       "      <th>2015-01-05</th>\n",
       "      <td>SBIN</td>\n",
       "      <td>EQ</td>\n",
       "      <td>315.25</td>\n",
       "      <td>316.25</td>\n",
       "      <td>316.80</td>\n",
       "      <td>312.10</td>\n",
       "      <td>312.8</td>\n",
       "      <td>312.75</td>\n",
       "      <td>313.84</td>\n",
       "      <td>9136716</td>\n",
       "      <td>2.867432e+14</td>\n",
       "      <td>88236</td>\n",
       "      <td>3845173</td>\n",
       "      <td>0.4208</td>\n",
       "    </tr>\n",
       "    <tr>\n",
       "      <th>2015-01-06</th>\n",
       "      <td>SBIN</td>\n",
       "      <td>EQ</td>\n",
       "      <td>312.75</td>\n",
       "      <td>310.00</td>\n",
       "      <td>311.10</td>\n",
       "      <td>298.70</td>\n",
       "      <td>299.9</td>\n",
       "      <td>299.90</td>\n",
       "      <td>305.14</td>\n",
       "      <td>15329257</td>\n",
       "      <td>4.677601e+14</td>\n",
       "      <td>169268</td>\n",
       "      <td>7424847</td>\n",
       "      <td>0.4844</td>\n",
       "    </tr>\n",
       "    <tr>\n",
       "      <th>2015-01-07</th>\n",
       "      <td>SBIN</td>\n",
       "      <td>EQ</td>\n",
       "      <td>299.90</td>\n",
       "      <td>300.00</td>\n",
       "      <td>302.55</td>\n",
       "      <td>295.15</td>\n",
       "      <td>301.4</td>\n",
       "      <td>300.15</td>\n",
       "      <td>299.95</td>\n",
       "      <td>15046745</td>\n",
       "      <td>4.513243e+14</td>\n",
       "      <td>147185</td>\n",
       "      <td>5631400</td>\n",
       "      <td>0.3743</td>\n",
       "    </tr>\n",
       "  </tbody>\n",
       "</table>\n",
       "</div>"
      ],
      "text/plain": [
       "           Symbol Series  Prev Close    Open    High     Low   Last   Close  \\\n",
       "Date                                                                          \n",
       "2015-01-01   SBIN     EQ      311.85  312.45  315.00  310.70  314.0  314.00   \n",
       "2015-01-02   SBIN     EQ      314.00  314.35  318.30  314.35  315.6  315.25   \n",
       "2015-01-05   SBIN     EQ      315.25  316.25  316.80  312.10  312.8  312.75   \n",
       "2015-01-06   SBIN     EQ      312.75  310.00  311.10  298.70  299.9  299.90   \n",
       "2015-01-07   SBIN     EQ      299.90  300.00  302.55  295.15  301.4  300.15   \n",
       "\n",
       "              VWAP    Volume      Turnover  Trades Deliverable Volume  \\\n",
       "Date                                                                    \n",
       "2015-01-01  313.67   6138488  1.925489e+14   58688            1877677   \n",
       "2015-01-02  316.80   9935094  3.147389e+14   79553            4221685   \n",
       "2015-01-05  313.84   9136716  2.867432e+14   88236            3845173   \n",
       "2015-01-06  305.14  15329257  4.677601e+14  169268            7424847   \n",
       "2015-01-07  299.95  15046745  4.513243e+14  147185            5631400   \n",
       "\n",
       "            %Deliverble  \n",
       "Date                     \n",
       "2015-01-01       0.3059  \n",
       "2015-01-02       0.4249  \n",
       "2015-01-05       0.4208  \n",
       "2015-01-06       0.4844  \n",
       "2015-01-07       0.3743  "
      ]
     },
     "execution_count": 29,
     "metadata": {},
     "output_type": "execute_result"
    }
   ],
   "source": [
    "data.head()"
   ]
  },
  {
   "cell_type": "code",
   "execution_count": 25,
   "metadata": {},
   "outputs": [
    {
     "data": {
      "text/plain": [
       "<matplotlib.axes._subplots.AxesSubplot at 0x1cb677ab128>"
      ]
     },
     "execution_count": 25,
     "metadata": {},
     "output_type": "execute_result"
    }
   ],
   "source": [
    "data[['Close']].plot()"
   ]
  },
  {
   "cell_type": "code",
   "execution_count": 30,
   "metadata": {
    "collapsed": true
   },
   "outputs": [],
   "source": [
    "data.to_csv(\"D://CodingNest//Kaggle//Projects//prj1//nse//output.csv\")"
   ]
  },
  {
   "cell_type": "code",
   "execution_count": 31,
   "metadata": {
    "collapsed": true
   },
   "outputs": [],
   "source": [
    "import requests"
   ]
  },
  {
   "cell_type": "code",
   "execution_count": 32,
   "metadata": {},
   "outputs": [
    {
     "name": "stderr",
     "output_type": "stream",
     "text": [
      "IOPub data rate exceeded.\n",
      "The notebook server will temporarily stop sending output\n",
      "to the client in order to avoid crashing it.\n",
      "To change this limit, set the config variable\n",
      "`--NotebookApp.iopub_data_rate_limit`.\n"
     ]
    },
    {
     "name": "stdout",
     "output_type": "stream",
     "text": [
      "\n"
     ]
    }
   ],
   "source": [
    "url = 'https://data.cityofnewyork.us/api/views/h9gi-nx95/rows.csv?accessType=DOWNLOAD'\n",
    "print(requests.get(url).text)"
   ]
  }
 ],
 "metadata": {
  "kernelspec": {
   "display_name": "Python 3",
   "language": "python",
   "name": "python3"
  },
  "language_info": {
   "codemirror_mode": {
    "name": "ipython",
    "version": 3
   },
   "file_extension": ".py",
   "mimetype": "text/x-python",
   "name": "python",
   "nbconvert_exporter": "python",
   "pygments_lexer": "ipython3",
   "version": "3.6.3"
  }
 },
 "nbformat": 4,
 "nbformat_minor": 2
}
